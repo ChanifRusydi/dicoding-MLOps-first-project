{
 "cells": [
  {
   "cell_type": "code",
   "execution_count": 1,
   "metadata": {},
   "outputs": [],
   "source": [
    "import requests"
   ]
  },
  {
   "cell_type": "code",
   "execution_count": null,
   "metadata": {},
   "outputs": [
    {
     "name": "stdout",
     "output_type": "stream",
     "text": [
      "http://localhost:8501/v1/models/sentiment-model/metadata\n"
     ]
    }
   ],
   "source": [
    "BASE_URL = \"http://localhost:8501\"\n",
    "model_name = \"sentiment-model\"\n",
    "FULL_URL = f\"{BASE_URL}/v1/models/{model_name}/metadata\"\n",
    "print(FULL_URL)"
   ]
  },
  {
   "cell_type": "code",
   "execution_count": 3,
   "metadata": {},
   "outputs": [
    {
     "name": "stdout",
     "output_type": "stream",
     "text": [
      "HTTPConnectionPool(host='localhost', port=8501): Max retries exceeded with url: /v1/models/sentiment-model/metadata (Caused by NewConnectionError('<urllib3.connection.HTTPConnection object at 0x7f4d21647af0>: Failed to establish a new connection: [Errno 111] Connection refused'))\n"
     ]
    }
   ],
   "source": [
    "try:\n",
    "    response = requests.get(FULL_URL)\n",
    "    print(response.json())\n",
    "except Exception as e:\n",
    "    print(e)"
   ]
  },
  {
   "cell_type": "code",
   "execution_count": 10,
   "metadata": {},
   "outputs": [],
   "source": [
    "data = {\n",
    "    \"instances\": [\n",
    "        \"I love this product\",\n",
    "        \"This movies sucks\",\n",
    "        \"I don't know how I feel about this product\"\n",
    "    ]\n",
    "}"
   ]
  },
  {
   "cell_type": "code",
   "execution_count": 11,
   "metadata": {},
   "outputs": [],
   "source": [
    "PREDICT_URL = f\"{BASE_URL}/v1/models/{model_name}:predict\""
   ]
  },
  {
   "cell_type": "code",
   "execution_count": 12,
   "metadata": {},
   "outputs": [
    {
     "name": "stdout",
     "output_type": "stream",
     "text": [
      "HTTPConnectionPool(host='localhost', port=8501): Max retries exceeded with url: /v1/models/sentiment-model:predict (Caused by NewConnectionError('<urllib3.connection.HTTPConnection object at 0x7f49a973a340>: Failed to establish a new connection: [Errno 111] Connection refused'))\n"
     ]
    }
   ],
   "source": [
    "try:\n",
    "    response = requests.post(PREDICT_URL, json=data)\n",
    "    print(response.json())\n",
    "except Exception as e:\n",
    "    print(e)"
   ]
  }
 ],
 "metadata": {
  "kernelspec": {
   "display_name": "mlops-tfx",
   "language": "python",
   "name": "python3"
  },
  "language_info": {
   "codemirror_mode": {
    "name": "ipython",
    "version": 3
   },
   "file_extension": ".py",
   "mimetype": "text/x-python",
   "name": "python",
   "nbconvert_exporter": "python",
   "pygments_lexer": "ipython3",
   "version": "3.9.20"
  }
 },
 "nbformat": 4,
 "nbformat_minor": 2
}
