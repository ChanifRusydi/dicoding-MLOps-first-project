{
 "cells": [
  {
   "cell_type": "code",
   "execution_count": 1,
   "metadata": {},
   "outputs": [],
   "source": [
    "import requests"
   ]
  },
  {
   "cell_type": "code",
   "execution_count": 2,
   "metadata": {},
   "outputs": [
    {
     "name": "stdout",
     "output_type": "stream",
     "text": [
      "http://localhost:8501/v1/models/sentiment-model/metadata\n"
     ]
    }
   ],
   "source": [
    "BASE_URL = \"http://localhost:8501\"\n",
    "model_name = \"sentiment-model\"\n",
    "FULL_URL = f\"{BASE_URL}/v1/models/{model_name}/metadata\"\n",
    "print(FULL_URL)"
   ]
  },
  {
   "cell_type": "code",
   "execution_count": 3,
   "metadata": {},
   "outputs": [
    {
     "name": "stdout",
     "output_type": "stream",
     "text": [
      "{'model_spec': {'name': 'sentiment-model', 'signature_name': '', 'version': '1733662205'}, 'metadata': {'signature_def': {'signature_def': {'__saved_model_init_op': {'inputs': {}, 'outputs': {'__saved_model_init_op': {'dtype': 'DT_INVALID', 'tensor_shape': {'dim': [], 'unknown_rank': True}, 'name': 'NoOp'}}, 'method_name': '', 'defaults': {}}, 'serving_default': {'inputs': {'examples': {'dtype': 'DT_STRING', 'tensor_shape': {'dim': [{'size': '-1', 'name': ''}], 'unknown_rank': False}, 'name': 'serving_default_examples:0'}}, 'outputs': {'output_0': {'dtype': 'DT_FLOAT', 'tensor_shape': {'dim': [{'size': '-1', 'name': ''}, {'size': '1', 'name': ''}], 'unknown_rank': False}, 'name': 'StatefulPartitionedCall:0'}}, 'method_name': 'tensorflow/serving/predict', 'defaults': {}}}}}}\n"
     ]
    }
   ],
   "source": [
    "try:\n",
    "    response = requests.get(FULL_URL)\n",
    "    print(response.json())\n",
    "except Exception as e:\n",
    "    print(e)"
   ]
  },
  {
   "cell_type": "code",
   "execution_count": 4,
   "metadata": {},
   "outputs": [],
   "source": [
    "data = {\n",
    "    \"instances\": [\n",
    "        \"I love this product\",\n",
    "        \"This movies sucks\",\n",
    "        \"I don't know how I feel about this product\"\n",
    "    ]\n",
    "}"
   ]
  },
  {
   "cell_type": "code",
   "execution_count": 6,
   "metadata": {},
   "outputs": [],
   "source": [
    "PREDICT_URL = f\"{BASE_URL}/v1/models/{model_name}:predict\""
   ]
  },
  {
   "cell_type": "code",
   "execution_count": 8,
   "metadata": {},
   "outputs": [
    {
     "name": "stdout",
     "output_type": "stream",
     "text": [
      "{'error': \"Could not parse example input, value: 'I love this product'\\n\\t [[{{function_node __inference_serve_tf_examples_fn_236104}}{{node ParseExample/ParseExampleV2}}]]\"}\n"
     ]
    }
   ],
   "source": [
    "try:\n",
    "    response = requests.post(PREDICT_URL, json=data)\n",
    "    print(response.json())\n",
    "except Exception as e:\n",
    "    print(e)"
   ]
  }
 ],
 "metadata": {
  "kernelspec": {
   "display_name": "mlops-tfx",
   "language": "python",
   "name": "python3"
  },
  "language_info": {
   "codemirror_mode": {
    "name": "ipython",
    "version": 3
   },
   "file_extension": ".py",
   "mimetype": "text/x-python",
   "name": "python",
   "nbconvert_exporter": "python",
   "pygments_lexer": "ipython3",
   "version": "3.9.20"
  }
 },
 "nbformat": 4,
 "nbformat_minor": 2
}
